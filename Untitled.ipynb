{
 "cells": [
  {
   "cell_type": "code",
   "execution_count": 1,
   "metadata": {},
   "outputs": [],
   "source": [
    "import math\n",
    "import sys"
   ]
  },
  {
   "cell_type": "code",
   "execution_count": 2,
   "metadata": {},
   "outputs": [],
   "source": [
    "#funcion para verificar si los numeros son primos\n",
    "def esPrimo(n):\n",
    "    if (n <= 1) :\n",
    "        return False\n",
    "    if (n <= 3) :\n",
    "        return True\n",
    "    if (n % 2 == 0 or n % 3 == 0) :\n",
    "        return False\n",
    "    i = 5\n",
    "    while(i * i <= n) :\n",
    "        if (n % i == 0 or n % (i + 2) == 0) :\n",
    "            return False\n",
    "        i = i + 6\n",
    "    return True"
   ]
  },
  {
   "cell_type": "code",
   "execution_count": 3,
   "metadata": {},
   "outputs": [],
   "source": [
    "#generardor de llave y\n",
    "def llaveY(p,q,r,x):\n",
    "    y = int(1)\n",
    "    xy= x*y\n",
    "    while xy != r:\n",
    "        y= r/x\n",
    "        xy= x*y\n",
    "        x+=1\n",
    "\n",
    "    \n",
    "    return y"
   ]
  },
  {
   "cell_type": "code",
   "execution_count": 4,
   "metadata": {},
   "outputs": [],
   "source": [
    "#cifradoryDesifrador\n",
    "def cifrador(m,x,pq):\n",
    "    exp = m**x\n",
    "    print(\">>\",exp)\n",
    "    mec = exp % pq\n",
    "    return mec"
   ]
  },
  {
   "cell_type": "code",
   "execution_count": 5,
   "metadata": {},
   "outputs": [
    {
     "name": "stdout",
     "output_type": "stream",
     "text": [
      "inserta un primo P: 53\n",
      "inserta un primo Q:17\n",
      "r:  833\n",
      "inserte la llave publica: 49\n",
      "x:  49\n",
      "y:  17\n",
      "El mensaje original es :35\n",
      ">> 4563879541327133859038615732548216309567248316625409643165767192840576171875\n",
      "El mensaje cifrado es : 715\n",
      ">> 3335820786845614350894816076349575304412841796875\n",
      "El mensaje decifrado es: 35\n"
     ]
    }
   ],
   "source": [
    "#insercion de datos\n",
    "p = input(\"inserta un primo P: \")\n",
    "p = int(p)\n",
    "q = input(\"inserta un primo Q:\")\n",
    "q = int(q)\n",
    "pq = p*q\n",
    "r = (p-1)*(q-1)+1\n",
    "if (esPrimo(p) != 1 or esPrimo(q) != 1):\n",
    "    print(\"los numero no son primos\")\n",
    "print(\"r: \",r)\n",
    "x = input(\"inserte la llave publica: \")\n",
    "x = int(x)\n",
    "if( (r%x)!=0 and (r+1 % (x))!= 0):\n",
    "    x=1\n",
    "    print(\"La llave publica fue cambiada a 1\")\n",
    "\n",
    "\n",
    "y = llaveY(p,q,r,x)\n",
    "y = int(y)\n",
    "\n",
    "print(\"x: \",x)\n",
    "print(\"y: \",y)\n",
    "\n",
    "pq= int(pq)\n",
    "m = input(\"El mensaje original es :\")\n",
    "m = int(m)\n",
    "mensaje_C = cifrador(m,x,pq)\n",
    "mensaje_C = int(mensaje_C)\n",
    "print(\"El mensaje cifrado es :\",mensaje_C)\n",
    "c = mensaje_C\n",
    "mensaje_D = cifrador(c,y,pq)\n",
    "\n",
    "print(\"El mensaje decifrado es:\",mensaje_D)"
   ]
  },
  {
   "cell_type": "code",
   "execution_count": null,
   "metadata": {},
   "outputs": [],
   "source": []
  }
 ],
 "metadata": {
  "kernelspec": {
   "display_name": "Python 3",
   "language": "python",
   "name": "python3"
  },
  "language_info": {
   "codemirror_mode": {
    "name": "ipython",
    "version": 3
   },
   "file_extension": ".py",
   "mimetype": "text/x-python",
   "name": "python",
   "nbconvert_exporter": "python",
   "pygments_lexer": "ipython3",
   "version": "3.8.2"
  }
 },
 "nbformat": 4,
 "nbformat_minor": 4
}
